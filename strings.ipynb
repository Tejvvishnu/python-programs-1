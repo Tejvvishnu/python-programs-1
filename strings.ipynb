{
  "nbformat": 4,
  "nbformat_minor": 0,
  "metadata": {
    "colab": {
      "name": "strings.ipynb",
      "provenance": [],
      "authorship_tag": "ABX9TyMuU9ZeUqV0LvZcZXG6MP3u",
      "include_colab_link": true
    },
    "kernelspec": {
      "name": "python3",
      "display_name": "Python 3"
    },
    "language_info": {
      "name": "python"
    }
  },
  "cells": [
    {
      "cell_type": "markdown",
      "metadata": {
        "id": "view-in-github",
        "colab_type": "text"
      },
      "source": [
        "<a href=\"https://colab.research.google.com/github/Tejvvishnu/python-programs-1/blob/main/strings.ipynb\" target=\"_parent\"><img src=\"https://colab.research.google.com/assets/colab-badge.svg\" alt=\"Open In Colab\"/></a>"
      ]
    },
    {
      "cell_type": "markdown",
      "source": [
        "strings"
      ],
      "metadata": {
        "id": "LbrGopYfXzy4"
      }
    },
    {
      "cell_type": "code",
      "execution_count": null,
      "metadata": {
        "colab": {
          "base_uri": "https://localhost:8080/"
        },
        "id": "iupvY2ftXwqe",
        "outputId": "a1681488-ec80-4373-873b-717c30c0f9ee"
      },
      "outputs": [
        {
          "output_type": "stream",
          "name": "stdout",
          "text": [
            "rrr\n",
            "<class 'str'>\n"
          ]
        }
      ],
      "source": [
        "a=\"rrr\"\n",
        "print(a)\n",
        "print(type(a))"
      ]
    },
    {
      "cell_type": "code",
      "source": [
        "a='rrr'\n",
        "print(a)\n",
        "print(type(a))"
      ],
      "metadata": {
        "colab": {
          "base_uri": "https://localhost:8080/"
        },
        "id": "wTtUGtuKYJf5",
        "outputId": "4c28650d-4423-4a35-a96b-bc133bf84c00"
      },
      "execution_count": null,
      "outputs": [
        {
          "output_type": "stream",
          "name": "stdout",
          "text": [
            "rrr\n",
            "<class 'str'>\n"
          ]
        }
      ]
    },
    {
      "cell_type": "markdown",
      "source": [
        "character"
      ],
      "metadata": {
        "id": "2ebKHFkUYY0o"
      }
    },
    {
      "cell_type": "code",
      "source": [
        "a='tej'\n",
        "print(a[1])"
      ],
      "metadata": {
        "colab": {
          "base_uri": "https://localhost:8080/"
        },
        "id": "Uyjvpi6UYYZg",
        "outputId": "4d73a271-7dd0-4484-9f16-d24c8e8d33c2"
      },
      "execution_count": null,
      "outputs": [
        {
          "output_type": "stream",
          "name": "stdout",
          "text": [
            "e\n"
          ]
        }
      ]
    },
    {
      "cell_type": "markdown",
      "source": [
        "converting to capitals(upper)"
      ],
      "metadata": {
        "id": "elrG7bxjYksg"
      }
    },
    {
      "cell_type": "code",
      "source": [
        "a='tej'\n",
        "print(a.upper())"
      ],
      "metadata": {
        "colab": {
          "base_uri": "https://localhost:8080/"
        },
        "id": "Zylnj7YYYkf4",
        "outputId": "9e4a572b-c88b-448b-c260-21fd30a7d22a"
      },
      "execution_count": null,
      "outputs": [
        {
          "output_type": "stream",
          "name": "stdout",
          "text": [
            "TEJ\n"
          ]
        }
      ]
    },
    {
      "cell_type": "markdown",
      "source": [
        "coverting to lower"
      ],
      "metadata": {
        "id": "n4LqSA_FY3kw"
      }
    },
    {
      "cell_type": "code",
      "source": [
        "a='TEJ'\n",
        "print(a.lower())"
      ],
      "metadata": {
        "colab": {
          "base_uri": "https://localhost:8080/"
        },
        "id": "2RBaBCTDY33Y",
        "outputId": "0b6036bf-49fd-41c5-d981-31280257d02a"
      },
      "execution_count": null,
      "outputs": [
        {
          "output_type": "stream",
          "name": "stdout",
          "text": [
            "tej\n"
          ]
        }
      ]
    },
    {
      "cell_type": "markdown",
      "source": [
        "remove spaces "
      ],
      "metadata": {
        "id": "IlVQiCA4ZiYF"
      }
    },
    {
      "cell_type": "code",
      "source": [
        "a='   a movie rrr'\n",
        "print(a.strip())\n",
        "print(type(a))"
      ],
      "metadata": {
        "colab": {
          "base_uri": "https://localhost:8080/"
        },
        "id": "BGfaOhDhZSgA",
        "outputId": "c385e014-1b7d-4cf6-8eef-ce90ed905141"
      },
      "execution_count": null,
      "outputs": [
        {
          "output_type": "stream",
          "name": "stdout",
          "text": [
            "a movie rrr\n",
            "<class 'str'>\n"
          ]
        }
      ]
    },
    {
      "cell_type": "code",
      "source": [
        "a=\"\"\"rrr\"\"\"\n",
        "print(a)\n",
        "\n",
        "a=\"rrr\"\n",
        "print(a)\n",
        "\n",
        "a='''rrr'''\n",
        "print(a)"
      ],
      "metadata": {
        "colab": {
          "base_uri": "https://localhost:8080/"
        },
        "id": "z7mKiQmQZZQP",
        "outputId": "08232cf0-b3aa-4887-b108-8af7052cbb86"
      },
      "execution_count": null,
      "outputs": [
        {
          "output_type": "stream",
          "name": "stdout",
          "text": [
            "rrr\n",
            "rrr\n",
            "rrr\n"
          ]
        }
      ]
    },
    {
      "cell_type": "markdown",
      "source": [
        "replace"
      ],
      "metadata": {
        "id": "3YkSHLgEaUkZ"
      }
    },
    {
      "cell_type": "code",
      "source": [
        "a=\"rrr\"\n",
        "print(a.replace(\"rrr\",\"beast\"))"
      ],
      "metadata": {
        "colab": {
          "base_uri": "https://localhost:8080/"
        },
        "id": "XY4WYd58aUP5",
        "outputId": "f74bc804-bf88-4892-cd96-f95c2daebfb8"
      },
      "execution_count": null,
      "outputs": [
        {
          "output_type": "stream",
          "name": "stdout",
          "text": [
            "beast\n"
          ]
        }
      ]
    },
    {
      "cell_type": "markdown",
      "source": [
        "split"
      ],
      "metadata": {
        "id": "VNKZS53Bch6y"
      }
    },
    {
      "cell_type": "code",
      "source": [
        "a=\"prabhas ramcharan allu\"\n",
        "print(a.split())\n",
        "a=\"prabhas,ramcharan allu\"\n",
        "print(a.split(\",\"))"
      ],
      "metadata": {
        "colab": {
          "base_uri": "https://localhost:8080/"
        },
        "id": "NkGmjy4Scj54",
        "outputId": "8547fb85-f743-48d0-99eb-f091f6369a93"
      },
      "execution_count": null,
      "outputs": [
        {
          "output_type": "stream",
          "name": "stdout",
          "text": [
            "['prabhas', 'ramcharan', 'allu']\n",
            "['prabhas', 'ramcharan allu']\n"
          ]
        }
      ]
    },
    {
      "cell_type": "markdown",
      "source": [
        "concatination"
      ],
      "metadata": {
        "id": "ioFVW4Wedpxi"
      }
    },
    {
      "cell_type": "code",
      "source": [
        "a=\"1\"\n",
        "b=\"2\"\n",
        "c=a+\" \"+b\n",
        "print(c)"
      ],
      "metadata": {
        "colab": {
          "base_uri": "https://localhost:8080/"
        },
        "id": "r9uSUGB2eJkx",
        "outputId": "5daf70a4-acfc-4618-962b-2bdb43ef86e8"
      },
      "execution_count": null,
      "outputs": [
        {
          "output_type": "stream",
          "name": "stdout",
          "text": [
            "1 2\n"
          ]
        }
      ]
    },
    {
      "cell_type": "markdown",
      "source": [
        ""
      ],
      "metadata": {
        "id": "5MbsFSwfg6zB"
      }
    },
    {
      "cell_type": "code",
      "source": [
        "a=\"20\"\n",
        "b=\"six {}\"\n",
        "print(b.format(a,b))"
      ],
      "metadata": {
        "colab": {
          "base_uri": "https://localhost:8080/"
        },
        "id": "ZuDWZ7rdg6db",
        "outputId": "d4a5d167-e190-49a1-f069-6980c80ce757"
      },
      "execution_count": null,
      "outputs": [
        {
          "output_type": "stream",
          "name": "stdout",
          "text": [
            "six 20\n"
          ]
        }
      ]
    },
    {
      "cell_type": "code",
      "source": [
        "amount= 3\n",
        "productno= 567\n",
        "cost= 49.95\n",
        "myorder = \"I want to pay {} dollars for {} pieces of item {}.\"\n",
        "print(myorder.format(amount,productno,cost))"
      ],
      "metadata": {
        "colab": {
          "base_uri": "https://localhost:8080/"
        },
        "id": "fvEU4TR7ibPK",
        "outputId": "e2ada8b1-c4a2-4324-ad13-cd02d7a088e7"
      },
      "execution_count": null,
      "outputs": [
        {
          "output_type": "stream",
          "name": "stdout",
          "text": [
            "I want to pay 3 dollars for 567 pieces of item 49.95.\n"
          ]
        }
      ]
    },
    {
      "cell_type": "markdown",
      "source": [
        ""
      ],
      "metadata": {
        "id": "qE_eG3S2k0qq"
      }
    },
    {
      "cell_type": "code",
      "source": [
        "english=int(input(\"enter a number\"))\n",
        "python=int(input(\"enter a number\"))\n",
        "marks=\"english {0},pyton {1}\"\n",
        "print(marks.format(english,python))\n"
      ],
      "metadata": {
        "colab": {
          "base_uri": "https://localhost:8080/"
        },
        "id": "xS2oBemZk1Mi",
        "outputId": "1aed457f-9c11-4371-9457-b3f28ecf3b98"
      },
      "execution_count": null,
      "outputs": [
        {
          "output_type": "stream",
          "name": "stdout",
          "text": [
            "enter a number10\n",
            "enter a number20\n",
            "english 10,pyton 20\n"
          ]
        }
      ]
    },
    {
      "cell_type": "code",
      "source": [
        "a=\"hi \\nram\"\n",
        "print(a)"
      ],
      "metadata": {
        "colab": {
          "base_uri": "https://localhost:8080/"
        },
        "id": "jBYskAVGnRe7",
        "outputId": "5a857b2a-a21b-460b-82da-2b2091edafc5"
      },
      "execution_count": null,
      "outputs": [
        {
          "output_type": "stream",
          "name": "stdout",
          "text": [
            "hi \n",
            "ram\n"
          ]
        }
      ]
    }
  ]
}