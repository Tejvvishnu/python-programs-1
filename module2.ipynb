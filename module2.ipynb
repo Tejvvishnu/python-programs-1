{
  "nbformat": 4,
  "nbformat_minor": 0,
  "metadata": {
    "colab": {
      "name": "module2.ipynb",
      "provenance": [],
      "authorship_tag": "ABX9TyMA7/1CCxQ7jZ/o6GNC+tsb",
      "include_colab_link": true
    },
    "kernelspec": {
      "name": "python3",
      "display_name": "Python 3"
    },
    "language_info": {
      "name": "python"
    }
  },
  "cells": [
    {
      "cell_type": "markdown",
      "metadata": {
        "id": "view-in-github",
        "colab_type": "text"
      },
      "source": [
        "<a href=\"https://colab.research.google.com/github/Tejvvishnu/python-programs-1/blob/main/module2.ipynb\" target=\"_parent\"><img src=\"https://colab.research.google.com/assets/colab-badge.svg\" alt=\"Open In Colab\"/></a>"
      ]
    },
    {
      "cell_type": "code",
      "execution_count": null,
      "metadata": {
        "colab": {
          "base_uri": "https://localhost:8080/"
        },
        "id": "ta3EcZNPpfWJ",
        "outputId": "69a03af3-4219-40e3-b6ef-4253d3ab48c3"
      },
      "outputs": [
        {
          "output_type": "stream",
          "name": "stdout",
          "text": [
            "10\n",
            "5\n",
            "252\n"
          ]
        }
      ],
      "source": [
        "\n",
        "def nCr(a,b):\n",
        "  return(fact(a)/(fact(b)*fact(a-b)))\n",
        "a=int(input(\"\"))\n",
        "b=int(input(\"\"))\n",
        "def fact(a):\n",
        "   r=1\n",
        "   for i in range (2,a+1):\n",
        "      r=r*i\n",
        "   return r\n",
        "print(int(nCr(a,b)))   \n"
      ]
    },
    {
      "cell_type": "code",
      "source": [
        "def colour():\n",
        "  tej = ['red', 'green', 'white', 'black', 'pink', 'yellow']\n",
        "  tej.pop(0)\n",
        "  tej.pop(3)\n",
        "  tej.pop(3)\n",
        "  print(tej)\n",
        "colour()"
      ],
      "metadata": {
        "id": "Lml9YIZkwBWw",
        "colab": {
          "base_uri": "https://localhost:8080/"
        },
        "outputId": "160893ff-280e-4a4b-f066-2f52a60fb1eb"
      },
      "execution_count": 1,
      "outputs": [
        {
          "output_type": "stream",
          "name": "stdout",
          "text": [
            "['green', 'white', 'black']\n"
          ]
        }
      ]
    },
    {
      "cell_type": "code",
      "source": [
        "x = [8,9,6,3,4,1,2,4]\n",
        "def ab(x):\n",
        "  y = sorted(x)\n",
        "  x1 = y[1]\n",
        "  x2 = y[-2]\n",
        "  print(x1)\n",
        "  print(x2)\n",
        "ab(x)"
      ],
      "metadata": {
        "colab": {
          "base_uri": "https://localhost:8080/"
        },
        "id": "FXCTEzaIl8TL",
        "outputId": "6f394fff-0bb0-475c-ec12-8b9b1572a695"
      },
      "execution_count": 4,
      "outputs": [
        {
          "output_type": "stream",
          "name": "stdout",
          "text": [
            "2\n",
            "8\n"
          ]
        }
      ]
    },
    {
      "cell_type": "code",
      "source": [
        "tej1 = [\"a\",\"b\",\"c\",\"f\",\"e\"]\n",
        "tej2 = [\"x\",\"y\",\"c\",\"g\",\"h\"]\n",
        "vishnu1 = set(tej1)\n",
        "vishnu2 = set(tej2)\n",
        "def diff(vishnu1,vishnu2):\n",
        "  x = vishnu1.difference(vishnu2)\n",
        "  y = vishnu2.difference(vishnu1)\n",
        "  a = list(x)\n",
        "  b = list (y)\n",
        "  z = a + b\n",
        "  print(z)\n",
        "diff(vishnu1,vishnu2)"
      ],
      "metadata": {
        "colab": {
          "base_uri": "https://localhost:8080/"
        },
        "id": "4bCIsqKrmmt6",
        "outputId": "445e98bf-261c-429b-dfb0-a891a6ed7429"
      },
      "execution_count": 6,
      "outputs": [
        {
          "output_type": "stream",
          "name": "stdout",
          "text": [
            "['e', 'b', 'a', 'f', 'x', 'y', 'h', 'g']\n"
          ]
        }
      ]
    },
    {
      "cell_type": "code",
      "source": [
        "tej1 = [8,4,2,5,1]\n",
        "tej2=[]\n",
        "def square():\n",
        "  for x in tej1:\n",
        "    tuple5 = (x,x*x)\n",
        "    tej2.append(tuple5)\n",
        "    tuple5 = tuple(tej2)\n",
        "  print(tuple5)\n",
        "square()"
      ],
      "metadata": {
        "colab": {
          "base_uri": "https://localhost:8080/"
        },
        "id": "H04vWduFnRxi",
        "outputId": "58ec9afe-46fa-4c2b-bc8d-f2ddb1d1daf1"
      },
      "execution_count": 9,
      "outputs": [
        {
          "output_type": "stream",
          "name": "stdout",
          "text": [
            "((8, 64), (4, 16), (2, 4), (5, 25), (1, 1))\n"
          ]
        }
      ]
    },
    {
      "cell_type": "code",
      "source": [
        "tej1 = [(4,5 ), (4, ), (8, 6, 7), (1, ), (3, 4, 6, 7)]\n",
        "i = 0\n",
        "while i < len(tej1):\n",
        "  if len(tej1[i])==2:\n",
        "    tej1.pop(i)\n",
        "  i = i + 1\n",
        "print(tej1)\n"
      ],
      "metadata": {
        "colab": {
          "base_uri": "https://localhost:8080/"
        },
        "id": "dpixThJVnsBA",
        "outputId": "595dd8ac-e996-4159-8174-ba7f4a6e99a2"
      },
      "execution_count": 11,
      "outputs": [
        {
          "output_type": "stream",
          "name": "stdout",
          "text": [
            "[(4,), (8, 6, 7), (1,), (3, 4, 6, 7)]\n"
          ]
        }
      ]
    },
    {
      "cell_type": "code",
      "source": [
        "tej = int(input(\"Enter key: \"))\n",
        "tej2 = {\n",
        "    1 : \"x\",\n",
        "    2 : \"y\",\n",
        "    3 : \"z\"\n",
        "}\n",
        "\n",
        "del tej2[tej]\n",
        "print(tej2)"
      ],
      "metadata": {
        "colab": {
          "base_uri": "https://localhost:8080/"
        },
        "id": "GECEhfOaoLmT",
        "outputId": "2cedbfaf-5b8e-4bd6-b44c-525fb122e3d3"
      },
      "execution_count": 13,
      "outputs": [
        {
          "output_type": "stream",
          "name": "stdout",
          "text": [
            "Enter key: 2\n",
            "{1: 'x', 3: 'z'}\n"
          ]
        }
      ]
    },
    {
      "cell_type": "code",
      "source": [
        "tej1 = {5 : 100, 8 : 666, 8 : 454, 5 : 5454, 7 : 784}\n",
        "\n",
        "tej2 = sorted(list(tej1.values()))\n",
        "\n",
        "min = tej2[0]\n",
        "max = tej2[-1]\n",
        "\n",
        "print(\"The minimum value is\",min , \"and the maximum is\",max)"
      ],
      "metadata": {
        "colab": {
          "base_uri": "https://localhost:8080/"
        },
        "id": "aD2fHcCzo1vR",
        "outputId": "f0218c09-801f-4e2f-c9b5-8e9726484b8b"
      },
      "execution_count": 15,
      "outputs": [
        {
          "output_type": "stream",
          "name": "stdout",
          "text": [
            "The minimum value is 454 and the maximum is 5454\n"
          ]
        }
      ]
    },
    {
      "cell_type": "code",
      "source": [
        "tej = \"I am going to rrr movie\"\n",
        "a = tej.split(\" \")\n",
        "b = 'to'\n",
        "count = 0\n",
        "for b in tej:\n",
        "  if b in a:\n",
        "    count = count + 1\n",
        "print(count)"
      ],
      "metadata": {
        "colab": {
          "base_uri": "https://localhost:8080/"
        },
        "id": "rA0yGLRkpXMK",
        "outputId": "ccef0cdd-8ae0-46d7-ae40-f7ee7071fd00"
      },
      "execution_count": 16,
      "outputs": [
        {
          "output_type": "stream",
          "name": "stdout",
          "text": [
            "1\n"
          ]
        }
      ]
    },
    {
      "cell_type": "code",
      "source": [
        "string=\"rabbit\"\n",
        "print(string.replace(\"b\",\"c\"))"
      ],
      "metadata": {
        "colab": {
          "base_uri": "https://localhost:8080/"
        },
        "id": "NggwXC14p7vA",
        "outputId": "da2e65c8-16db-44c0-f9f6-b11f41430e50"
      },
      "execution_count": 17,
      "outputs": [
        {
          "output_type": "stream",
          "name": "stdout",
          "text": [
            "raccit\n"
          ]
        }
      ]
    },
    {
      "cell_type": "code",
      "source": [
        "string = input(\":\")\n",
        "acro = \"\"\n",
        "sample = string.split(\" \")\n",
        "for word in sample:\n",
        "  acro = acro + word[0].upper()\n",
        "print(acro)"
      ],
      "metadata": {
        "colab": {
          "base_uri": "https://localhost:8080/"
        },
        "id": "IlGX1ACmqGMw",
        "outputId": "dddb20e9-319e-4c0c-b0a3-d2043a083e3b"
      },
      "execution_count": 18,
      "outputs": [
        {
          "output_type": "stream",
          "name": "stdout",
          "text": [
            ":rma\n",
            "R\n"
          ]
        }
      ]
    },
    {
      "cell_type": "code",
      "source": [
        "tej1 = ['abc', 'xyz', 'aba', '1221']\n",
        "for word in tej1:\n",
        "  if len(word)>2 and word[0]==word[-1]:\n",
        "    print(word)"
      ],
      "metadata": {
        "colab": {
          "base_uri": "https://localhost:8080/"
        },
        "id": "R0KX0WDVqdXQ",
        "outputId": "b22ac43e-7618-44a9-e151-fc51d16d3723"
      },
      "execution_count": 19,
      "outputs": [
        {
          "output_type": "stream",
          "name": "stdout",
          "text": [
            "aba\n",
            "1221\n"
          ]
        }
      ]
    }
  ]
}