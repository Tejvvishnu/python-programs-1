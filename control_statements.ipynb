{
  "nbformat": 4,
  "nbformat_minor": 0,
  "metadata": {
    "colab": {
      "name": "control statements.ipynb",
      "provenance": [],
      "authorship_tag": "ABX9TyMY66FeTVQtKcqiqNm327H8",
      "include_colab_link": true
    },
    "kernelspec": {
      "name": "python3",
      "display_name": "Python 3"
    },
    "language_info": {
      "name": "python"
    }
  },
  "cells": [
    {
      "cell_type": "markdown",
      "metadata": {
        "id": "view-in-github",
        "colab_type": "text"
      },
      "source": [
        "<a href=\"https://colab.research.google.com/github/Tejvvishnu/python-programs-1/blob/main/control_statements.ipynb\" target=\"_parent\"><img src=\"https://colab.research.google.com/assets/colab-badge.svg\" alt=\"Open In Colab\"/></a>"
      ]
    },
    {
      "cell_type": "code",
      "source": [
        "a=int(input(\"enter a value\"))\n",
        "for a in range(1, 101):\n",
        "    if a % 2 == 0: \n",
        "        print(a) "
      ],
      "metadata": {
        "colab": {
          "base_uri": "https://localhost:8080/"
        },
        "outputId": "df0fa4ee-84a6-43e8-b223-c927e00a6206",
        "id": "MJwkxdDNLv2h"
      },
      "execution_count": null,
      "outputs": [
        {
          "output_type": "stream",
          "name": "stdout",
          "text": [
            "enter a value100\n",
            "2\n",
            "4\n",
            "6\n",
            "8\n",
            "10\n",
            "12\n",
            "14\n",
            "16\n",
            "18\n",
            "20\n",
            "22\n",
            "24\n",
            "26\n",
            "28\n",
            "30\n",
            "32\n",
            "34\n",
            "36\n",
            "38\n",
            "40\n",
            "42\n",
            "44\n",
            "46\n",
            "48\n",
            "50\n",
            "52\n",
            "54\n",
            "56\n",
            "58\n",
            "60\n",
            "62\n",
            "64\n",
            "66\n",
            "68\n",
            "70\n",
            "72\n",
            "74\n",
            "76\n",
            "78\n",
            "80\n",
            "82\n",
            "84\n",
            "86\n",
            "88\n",
            "90\n",
            "92\n",
            "94\n",
            "96\n",
            "98\n",
            "100\n"
          ]
        }
      ]
    },
    {
      "cell_type": "code",
      "execution_count": null,
      "metadata": {
        "colab": {
          "base_uri": "https://localhost:8080/"
        },
        "id": "24Bqc7N1pQQN",
        "outputId": "c52a8689-bff6-430a-8e6f-8e6f8d50575a"
      },
      "outputs": [
        {
          "output_type": "stream",
          "name": "stdout",
          "text": [
            "enter your age19\n",
            "eligible for voting\n"
          ]
        }
      ],
      "source": [
        "a=int(input(\"enter your age\"))\n",
        "if a>=18:\n",
        "          print(\"eligible for voting\")\n",
        "else:\n",
        "      print(\"not eligible for voting\")\n"
      ]
    },
    {
      "cell_type": "code",
      "source": [
        "a=int(input(\"enter a value\"))\n",
        "b=int(input(\"enter a value\"))\n",
        "c=int(input(\"enter a value\"))\n",
        "if a>b & a>c:\n",
        "   print(\"a is greatest\")\n",
        "elif b>a & b>c:\n",
        "     print(\"b is greatest\")\n",
        "else:\n",
        "      print(\"c is greatest\")"
      ],
      "metadata": {
        "colab": {
          "base_uri": "https://localhost:8080/"
        },
        "id": "TW-0EUG3pavr",
        "outputId": "13d6b091-552a-46f1-8c74-d8e1d8234175"
      },
      "execution_count": null,
      "outputs": [
        {
          "output_type": "stream",
          "name": "stdout",
          "text": [
            "enter a value10\n",
            "enter a value20\n",
            "enter a value30\n",
            "c is greatest\n"
          ]
        }
      ]
    },
    {
      "cell_type": "markdown",
      "source": [
        "WHILE LOOP"
      ],
      "metadata": {
        "id": "juI2lT-MLgQ6"
      }
    },
    {
      "cell_type": "code",
      "source": [
        "a=int(input(\"enter a value\"))\n",
        "for a in range(1, 101):\n",
        "    if a % 2 == 0: \n",
        "        print(a) "
      ],
      "metadata": {
        "colab": {
          "base_uri": "https://localhost:8080/"
        },
        "outputId": "df0fa4ee-84a6-43e8-b223-c927e00a6206",
        "id": "Ew6Em96QLxZx"
      },
      "execution_count": null,
      "outputs": [
        {
          "output_type": "stream",
          "name": "stdout",
          "text": [
            "enter a value100\n",
            "2\n",
            "4\n",
            "6\n",
            "8\n",
            "10\n",
            "12\n",
            "14\n",
            "16\n",
            "18\n",
            "20\n",
            "22\n",
            "24\n",
            "26\n",
            "28\n",
            "30\n",
            "32\n",
            "34\n",
            "36\n",
            "38\n",
            "40\n",
            "42\n",
            "44\n",
            "46\n",
            "48\n",
            "50\n",
            "52\n",
            "54\n",
            "56\n",
            "58\n",
            "60\n",
            "62\n",
            "64\n",
            "66\n",
            "68\n",
            "70\n",
            "72\n",
            "74\n",
            "76\n",
            "78\n",
            "80\n",
            "82\n",
            "84\n",
            "86\n",
            "88\n",
            "90\n",
            "92\n",
            "94\n",
            "96\n",
            "98\n",
            "100\n"
          ]
        }
      ]
    },
    {
      "cell_type": "code",
      "source": [
        "s1=int(input(\"enter a value\"))\n",
        "s2=int(input(\"enter a value\"))\n",
        "s3=int(input(\"enter a value\"))\n",
        "s4=int(input(\"enter a value\"))\n",
        "if s1>s2 & s1>s3 & s1>s4 :\n",
        "   print(\"s1 is greatest\")\n",
        "elif s2&s1 & s2>s3 & s2>s4:\n",
        "     print(\"s2 is greatest\")\n",
        "elif s3>s1 & s3>s2 & s3>s4:\n",
        "      print(\"s3 is greatest\")\n",
        "else:\n",
        "    print(\"s4 is greatest\")\n"
      ],
      "metadata": {
        "colab": {
          "base_uri": "https://localhost:8080/"
        },
        "id": "2maMiBH5wisB",
        "outputId": "60ec8a83-1f48-42c1-bdf6-fb1bfdd9235c"
      },
      "execution_count": null,
      "outputs": [
        {
          "output_type": "stream",
          "name": "stdout",
          "text": [
            "enter a value10\n",
            "enter a value060\n",
            "enter a value90\n",
            "enter a value40\n",
            "s4 is greatest\n"
          ]
        }
      ]
    },
    {
      "cell_type": "code",
      "source": [
        "a=int(input(\"enter a value\"))\n",
        "b=int(input(\"enter a value\"))\n",
        "c=int(input(\"enter a value\"))\n",
        "d=int(input(\"enter a value\"))\n",
        "if a>b & a>c & a>d & a<e:\n",
        "   print(\"a is greatest\")\n",
        "elif b>a & b>c & b>d & b>e:\n",
        "     print(\"b is greatest\")\n",
        "elif c>a & c>b & c>d & c>e:\n",
        "      print(\"c is greatest\")\n",
        "else:\n",
        "    print(\"d is greatest\")\n",
        "\n",
        "\n",
        "\n"
      ],
      "metadata": {
        "colab": {
          "base_uri": "https://localhost:8080/"
        },
        "id": "MEGEs9JIu3Ar",
        "outputId": "2c35f3f8-5ab5-4ea7-9275-178d85edbd40"
      },
      "execution_count": null,
      "outputs": [
        {
          "output_type": "stream",
          "name": "stdout",
          "text": [
            "enter a value10\n",
            "enter a value0\n",
            "enter a value40\n",
            "enter a value50\n",
            "d is greatest\n"
          ]
        }
      ]
    },
    {
      "cell_type": "code",
      "source": [
        "a=int(input(\"enter a value\"))\n",
        "for a in range(1, 101):\n",
        "    if a % 2 == 0: \n",
        "        print(a) "
      ],
      "metadata": {
        "colab": {
          "base_uri": "https://localhost:8080/"
        },
        "id": "rbQ7DP4EzYEE",
        "outputId": "df0fa4ee-84a6-43e8-b223-c927e00a6206"
      },
      "execution_count": null,
      "outputs": [
        {
          "output_type": "stream",
          "name": "stdout",
          "text": [
            "enter a value100\n",
            "2\n",
            "4\n",
            "6\n",
            "8\n",
            "10\n",
            "12\n",
            "14\n",
            "16\n",
            "18\n",
            "20\n",
            "22\n",
            "24\n",
            "26\n",
            "28\n",
            "30\n",
            "32\n",
            "34\n",
            "36\n",
            "38\n",
            "40\n",
            "42\n",
            "44\n",
            "46\n",
            "48\n",
            "50\n",
            "52\n",
            "54\n",
            "56\n",
            "58\n",
            "60\n",
            "62\n",
            "64\n",
            "66\n",
            "68\n",
            "70\n",
            "72\n",
            "74\n",
            "76\n",
            "78\n",
            "80\n",
            "82\n",
            "84\n",
            "86\n",
            "88\n",
            "90\n",
            "92\n",
            "94\n",
            "96\n",
            "98\n",
            "100\n"
          ]
        }
      ]
    },
    {
      "cell_type": "code",
      "source": [
        "for i in range(0, 30, 2):\n",
        "        print(i)"
      ],
      "metadata": {
        "colab": {
          "base_uri": "https://localhost:8080/"
        },
        "id": "nV4aG1BH6_8p",
        "outputId": "8590392b-d10f-4df8-cb42-5e1c7b5dd393"
      },
      "execution_count": null,
      "outputs": [
        {
          "output_type": "stream",
          "name": "stdout",
          "text": [
            "0\n",
            "2\n",
            "4\n",
            "6\n",
            "8\n",
            "10\n",
            "12\n",
            "14\n",
            "16\n",
            "18\n",
            "20\n",
            "22\n",
            "24\n",
            "26\n",
            "28\n"
          ]
        }
      ]
    },
    {
      "cell_type": "markdown",
      "source": [
        "while loop\n",
        "\n",
        "\n"
      ],
      "metadata": {
        "id": "3-AogLbpNe0g"
      }
    },
    {
      "cell_type": "code",
      "source": [
        "x=int(input(\"enter angle\"))\n",
        "y=int(input(\"enter angle\"))\n",
        "z=int(input(\"enter angle\"))\n",
        "if x==y==z:\n",
        "  print(\"eqilateral triangle\")\n",
        "elif x==y or y==z or z==x:\n",
        "    print(\"isosceles triangle\")\n",
        "else:\n",
        "    print(\"scalene triangle\") \n",
        "\n"
      ],
      "metadata": {
        "colab": {
          "base_uri": "https://localhost:8080/"
        },
        "id": "OcAG1WcdNj0A",
        "outputId": "d32a78e1-a308-4252-e100-8d91e811c1f6"
      },
      "execution_count": null,
      "outputs": [
        {
          "output_type": "stream",
          "name": "stdout",
          "text": [
            "enter angle30\n",
            "enter angle30\n",
            "enter angle30\n",
            "eqilateral triangle\n"
          ]
        }
      ]
    },
    {
      "cell_type": "code",
      "source": [
        "a=int(input(\"enter a value\"))\n",
        "if a % 4==0: \n",
        "        print(\"leap year\")\n",
        "else:\n",
        "  print(\"not a leap year\")       "
      ],
      "metadata": {
        "colab": {
          "base_uri": "https://localhost:8080/"
        },
        "id": "S7VnO6EAQaFX",
        "outputId": "559cda90-c544-4078-b2ce-91a91add69e5"
      },
      "execution_count": null,
      "outputs": [
        {
          "output_type": "stream",
          "name": "stdout",
          "text": [
            "enter a value1020\n",
            "leap year\n"
          ]
        }
      ]
    },
    {
      "cell_type": "code",
      "source": [
        "a=int(input(\"enter a value\"))\n",
        "b=int(input(\"enter a value\"))\n",
        "c=int(input(\"enter a value\"))\n",
        "if a<b and a<c :\n",
        "   print(\"a is minimum\")\n",
        "elif b<a and b<c30:\n",
        " \n",
        "     print(\"b is minimum\")\n",
        "else:\n",
        "      print(\"c is minimum\")\n"
      ],
      "metadata": {
        "colab": {
          "base_uri": "https://localhost:8080/"
        },
        "id": "kr_zQMT3QG1G",
        "outputId": "76ced5fe-a47a-452f-db6a-9848e769010e"
      },
      "execution_count": null,
      "outputs": [
        {
          "output_type": "stream",
          "name": "stdout",
          "text": [
            "enter a value10\n",
            "enter a value20\n",
            "enter a value30\n",
            "a is minimum\n"
          ]
        }
      ]
    },
    {
      "cell_type": "code",
      "source": [
        "a=int(input(\"enter a value\"))\n",
        "if a % 5 == 0 and a % 11 == 0: \n",
        "        print(\"divisible\") \n",
        "else:\n",
        "    print(\"not divisible\")"
      ],
      "metadata": {
        "colab": {
          "base_uri": "https://localhost:8080/"
        },
        "id": "udZiqO8pTTo-",
        "outputId": "7ded5433-6559-48ab-a52f-633af6a1e2ea"
      },
      "execution_count": null,
      "outputs": [
        {
          "output_type": "stream",
          "name": "stdout",
          "text": [
            "enter a value110\n",
            "divisible\n"
          ]
        }
      ]
    },
    {
      "cell_type": "code",
      "source": [
        ""
      ],
      "metadata": {
        "id": "oJ-KvLgzUj9o"
      },
      "execution_count": null,
      "outputs": []
    },
    {
      "cell_type": "code",
      "source": [
        "import cmath\n",
        "a=int(input(\"enter a value\"))\n",
        "b=int(input(\"enter a value\"))\n",
        "c=int(input(\"enter a value\"))\n",
        "dis=(b*b-4*a*c)\n",
        "x = (-b-cmath.sqrt(dis))/(2 * a)\n",
        "y = (-b + cmath.sqrt(dis))/(2 * a)\n",
        "print(x)\n",
        "print(y) \n",
        "\n",
        "\n"
      ],
      "metadata": {
        "id": "_MAo2-HuTMS3",
        "colab": {
          "base_uri": "https://localhost:8080/"
        },
        "outputId": "ac786dc9-61ae-47f3-c1d6-43f94a73e81d"
      },
      "execution_count": 9,
      "outputs": [
        {
          "output_type": "stream",
          "name": "stdout",
          "text": [
            "enter a value1\n",
            "enter a value-2\n",
            "enter a value3\n",
            "(1-1.4142135623730951j)\n",
            "(1+1.4142135623730951j)\n"
          ]
        }
      ]
    },
    {
      "cell_type": "code",
      "source": [
        "a=int(input())\n",
        "factorial=1\n",
        "if a< 0:\n",
        "   print(\"no factorial\")\n",
        "elif a== 0:\n",
        "   print(\"The factorial of 0 is 1\")\n",
        "else:\n",
        " for i in range(1,a+ 1):\n",
        "   factorial = factorial*i\n",
        "   print(factorial)"
      ],
      "metadata": {
        "colab": {
          "base_uri": "https://localhost:8080/"
        },
        "id": "HWlIPCn4Uo_J",
        "outputId": "0fbf8726-3e6e-46a6-fbba-cd56b857bfc5"
      },
      "execution_count": 17,
      "outputs": [
        {
          "output_type": "stream",
          "name": "stdout",
          "text": [
            "10\n",
            "1\n",
            "2\n",
            "6\n",
            "24\n",
            "120\n",
            "720\n",
            "5040\n",
            "40320\n",
            "362880\n",
            "3628800\n"
          ]
        }
      ]
    }
  ]
}