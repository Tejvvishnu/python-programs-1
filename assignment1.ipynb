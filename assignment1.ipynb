{
  "cells": [
    {
      "cell_type": "markdown",
      "metadata": {
        "id": "view-in-github",
        "colab_type": "text"
      },
      "source": [
        "<a href=\"https://colab.research.google.com/github/Tejvvishnu/python-programs-1/blob/main/assignment1.ipynb\" target=\"_parent\"><img src=\"https://colab.research.google.com/assets/colab-badge.svg\" alt=\"Open In Colab\"/></a>"
      ]
    },
    {
      "cell_type": "markdown",
      "metadata": {
        "id": "bHkAPt1muOWF"
      },
      "source": [
        "length"
      ]
    },
    {
      "cell_type": "code",
      "execution_count": null,
      "metadata": {
        "colab": {
          "base_uri": "https://localhost:8080/"
        },
        "id": "YWmj-YjSuQY9",
        "outputId": "865ce0b3-bd8d-4ad0-c5f5-3cbc7419124e"
      },
      "outputs": [
        {
          "name": "stdout",
          "output_type": "stream",
          "text": [
            "3\n"
          ]
        }
      ],
      "source": [
        "tej=[\"1\",\"2\",\"3\"]\n",
        "print(len(tej))"
      ]
    },
    {
      "cell_type": "markdown",
      "metadata": {
        "id": "5RDgFDCquq3k"
      },
      "source": [
        "add"
      ]
    },
    {
      "cell_type": "code",
      "execution_count": null,
      "metadata": {
        "colab": {
          "base_uri": "https://localhost:8080/"
        },
        "id": "VGNb-ufBugJ3",
        "outputId": "3f4219e2-3afe-47e8-8bca-b1eb9013b3ed"
      },
      "outputs": [
        {
          "name": "stdout",
          "output_type": "stream",
          "text": [
            "<class 'list'>\n"
          ]
        }
      ],
      "source": [
        "tej=[\"1\",\"2\",\"3\"]\n",
        "print(type(tej))"
      ]
    },
    {
      "cell_type": "markdown",
      "metadata": {
        "id": "lGb1_OCauOJF"
      },
      "source": [
        "single element"
      ]
    },
    {
      "cell_type": "code",
      "execution_count": null,
      "metadata": {
        "colab": {
          "base_uri": "https://localhost:8080/"
        },
        "id": "aOXBH-sdu_vM",
        "outputId": "d51cd80d-9b55-4c9f-9ca5-f3f3bd3fb611"
      },
      "outputs": [
        {
          "name": "stdout",
          "output_type": "stream",
          "text": [
            "2\n"
          ]
        }
      ],
      "source": [
        "tej=[\"1\",\"2\",\"3\"]\n",
        "print(tej[1])"
      ]
    },
    {
      "cell_type": "markdown",
      "metadata": {
        "id": "WlyYGROouN4M"
      },
      "source": [
        "last element"
      ]
    },
    {
      "cell_type": "code",
      "execution_count": null,
      "metadata": {
        "colab": {
          "base_uri": "https://localhost:8080/"
        },
        "id": "zNQEuLjSKPlM",
        "outputId": "e7fdd1ed-6f19-44e2-e9c2-ef99a8e66971"
      },
      "outputs": [
        {
          "name": "stdout",
          "output_type": "stream",
          "text": [
            "5\n"
          ]
        }
      ],
      "source": [
        "tej=[\"1\",\"2\",\"3\",\"4\",\"5\"]\n",
        "print(tej[-1])\n"
      ]
    },
    {
      "cell_type": "markdown",
      "metadata": {
        "id": "D9tc_8PcuNvl"
      },
      "source": [
        "change element"
      ]
    },
    {
      "cell_type": "code",
      "execution_count": null,
      "metadata": {
        "colab": {
          "base_uri": "https://localhost:8080/"
        },
        "id": "TrxWPMIMK4Gn",
        "outputId": "478f1c2d-97d8-450a-d241-89e04724eb24"
      },
      "outputs": [
        {
          "name": "stdout",
          "output_type": "stream",
          "text": [
            "['1', '10', '3', '4', '5']\n"
          ]
        }
      ],
      "source": [
        "tej=[\"1\",\"2\",\"3\",\"4\",\"5\"]\n",
        "tej[1] = \"10\"\n",
        "print(tej)"
      ]
    },
    {
      "cell_type": "markdown",
      "metadata": {
        "id": "4T78eZISUJLu"
      },
      "source": [
        "new elements"
      ]
    },
    {
      "cell_type": "code",
      "execution_count": null,
      "metadata": {
        "colab": {
          "base_uri": "https://localhost:8080/"
        },
        "id": "cAWs4N7ct4cS",
        "outputId": "14284246-a53e-48cd-f1a2-948a282cab29"
      },
      "outputs": [
        {
          "name": "stdout",
          "output_type": "stream",
          "text": [
            "['1', '10', '20', '4', '5']\n"
          ]
        }
      ],
      "source": [
        "tej=[\"1\",\"2\",\"3\",\"4\",\"5\"]\n",
        "tej[1:3] = [\"10\",\"20\"]\n",
        "print(tej)"
      ]
    },
    {
      "cell_type": "markdown",
      "metadata": {
        "id": "03dfHGxIVXg4"
      },
      "source": [
        "append"
      ]
    },
    {
      "cell_type": "code",
      "execution_count": null,
      "metadata": {
        "colab": {
          "base_uri": "https://localhost:8080/"
        },
        "id": "okYC4d-KUNFw",
        "outputId": "2885ccfa-54b7-43a3-a164-e7d1e6d6dae2"
      },
      "outputs": [
        {
          "name": "stdout",
          "output_type": "stream",
          "text": [
            "['1', '2', '3', '4', '5', '10']\n"
          ]
        }
      ],
      "source": [
        "tej=[\"1\",\"2\",\"3\",\"4\",\"5\"]\n",
        "tej.append(\"10\")\n",
        "print(tej)"
      ]
    },
    {
      "cell_type": "markdown",
      "metadata": {
        "id": "CPrpmXTeWFrM"
      },
      "source": [
        "remove item"
      ]
    },
    {
      "cell_type": "code",
      "execution_count": null,
      "metadata": {
        "colab": {
          "base_uri": "https://localhost:8080/"
        },
        "id": "02dQwlzhWoYh",
        "outputId": "48245d83-cde6-4847-b06a-596d6b2f5046"
      },
      "outputs": [
        {
          "name": "stdout",
          "output_type": "stream",
          "text": [
            "['1', '3', '4', '5']\n"
          ]
        }
      ],
      "source": [
        "tej=[\"1\",\"2\",\"3\",\"4\",\"5\"]\n",
        "tej.pop(1)\n",
        "print(tej)"
      ]
    },
    {
      "cell_type": "markdown",
      "metadata": {
        "id": "DESUgBwKW8Q1"
      },
      "source": [
        "loop"
      ]
    },
    {
      "cell_type": "code",
      "execution_count": null,
      "metadata": {
        "colab": {
          "base_uri": "https://localhost:8080/"
        },
        "id": "yiR40sF0XDqK",
        "outputId": "95201c77-e230-4fb4-ee42-b4da8abf820c"
      },
      "outputs": [
        {
          "name": "stdout",
          "output_type": "stream",
          "text": [
            "1\n",
            "2\n",
            "3\n",
            "4\n",
            "5\n"
          ]
        }
      ],
      "source": [
        "tej=[\"1\",\"2\",\"3\",\"4\",\"5\"]\n",
        "for x in tej:\n",
        "  print(x)"
      ]
    },
    {
      "cell_type": "markdown",
      "metadata": {
        "id": "Ww55OnKhXtNj"
      },
      "source": [
        "loop through index"
      ]
    },
    {
      "cell_type": "code",
      "execution_count": null,
      "metadata": {
        "colab": {
          "base_uri": "https://localhost:8080/"
        },
        "id": "E0W25Lm3W7Um",
        "outputId": "c565380c-1490-43d8-e8c2-9b90efd60d15"
      },
      "outputs": [
        {
          "name": "stdout",
          "output_type": "stream",
          "text": [
            "1\n",
            "2\n",
            "3\n",
            "4\n",
            "5\n"
          ]
        }
      ],
      "source": [
        "tej=[\"1\",\"2\",\"3\",\"4\",\"5\"]\n",
        "for i in range(len(tej)):\n",
        "  print(tej[i])"
      ]
    },
    {
      "cell_type": "markdown",
      "metadata": {
        "id": "LtSX-IuNY2qu"
      },
      "source": [
        "while loop list"
      ]
    },
    {
      "cell_type": "code",
      "execution_count": null,
      "metadata": {
        "colab": {
          "base_uri": "https://localhost:8080/"
        },
        "id": "iPg-ur4bWEzh",
        "outputId": "142b264c-cc95-4950-d382-a4c40a8037b7"
      },
      "outputs": [
        {
          "name": "stdout",
          "output_type": "stream",
          "text": [
            "1\n",
            "2\n",
            "3\n",
            "4\n",
            "5\n"
          ]
        }
      ],
      "source": [
        "tej=[\"1\",\"2\",\"3\",\"4\",\"5\"]\n",
        "i = 0\n",
        "while i < len(tej):\n",
        "  print(tej[i])\n",
        "  i = i + 1"
      ]
    },
    {
      "cell_type": "markdown",
      "metadata": {
        "id": "Vh59O9NwrLX7"
      },
      "source": [
        "condition"
      ]
    },
    {
      "cell_type": "code",
      "execution_count": null,
      "metadata": {
        "colab": {
          "base_uri": "https://localhost:8080/"
        },
        "id": "JTYJsbqwrbBy",
        "outputId": "8af9d963-caf9-47a3-d7df-bda4e123e914"
      },
      "outputs": [
        {
          "name": "stdout",
          "output_type": "stream",
          "text": [
            "[0, 1, 2, 3, 4]\n"
          ]
        }
      ],
      "source": [
        "tej = [x for x in range(10) if x < 5]\n",
        "print(tej)"
      ]
    },
    {
      "cell_type": "markdown",
      "metadata": {
        "id": "vK-eOtQZrXrJ"
      },
      "source": [
        "sort"
      ]
    },
    {
      "cell_type": "code",
      "execution_count": null,
      "metadata": {
        "colab": {
          "base_uri": "https://localhost:8080/"
        },
        "id": "xKOVZ7cnr-mA",
        "outputId": "3b8aecfc-1bf4-470a-aa72-a2300df3f907"
      },
      "outputs": [
        {
          "name": "stdout",
          "output_type": "stream",
          "text": [
            "[0, 1, 2, 3, 4]\n"
          ]
        }
      ],
      "source": [
        "tej = [x for x in range(10) if x < 5]\n",
        "tej.sort()\n",
        "print(tej)"
      ]
    },
    {
      "cell_type": "markdown",
      "metadata": {
        "id": "YIgTY67KsRZZ"
      },
      "source": [
        "decending"
      ]
    },
    {
      "cell_type": "code",
      "execution_count": null,
      "metadata": {
        "colab": {
          "base_uri": "https://localhost:8080/"
        },
        "id": "19mOjq4jsZWC",
        "outputId": "907ecbfb-405a-49a4-bbc8-d19002ffd9cb"
      },
      "outputs": [
        {
          "name": "stdout",
          "output_type": "stream",
          "text": [
            "[4, 3, 2, 1, 0]\n"
          ]
        }
      ],
      "source": [
        "tej = [x for x in range(10) if x < 5]\n",
        "tej.sort(reverse = True)\n",
        "print(tej)"
      ]
    },
    {
      "cell_type": "markdown",
      "metadata": {
        "id": "R5PbzbaYsw3g"
      },
      "source": [
        "copy lists"
      ]
    },
    {
      "cell_type": "code",
      "execution_count": null,
      "metadata": {
        "colab": {
          "background_save": true
        },
        "id": "uyGYbnXOs0Kl",
        "outputId": "54960728-9ad0-44f2-b2e5-37e7f40faa10"
      },
      "outputs": [
        {
          "name": "stdout",
          "output_type": "stream",
          "text": [
            "['1', '2', '3', '4', '5']\n"
          ]
        }
      ],
      "source": [
        "tej=[\"1\",\"2\",\"3\",\"4\",\"5\"]\n",
        "tej = tej.copy()\n",
        "print(t)"
      ]
    }
  ],
  "metadata": {
    "colab": {
      "name": "assignment1.ipynb",
      "provenance": [],
      "authorship_tag": "ABX9TyOwYY4NFeyX80Z5Ok5bVj8d",
      "include_colab_link": true
    },
    "kernelspec": {
      "display_name": "Python 3",
      "name": "python3"
    },
    "language_info": {
      "name": "python"
    }
  },
  "nbformat": 4,
  "nbformat_minor": 0
}