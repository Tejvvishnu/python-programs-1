{
  "nbformat": 4,
  "nbformat_minor": 0,
  "metadata": {
    "colab": {
      "name": "function.ipynb",
      "provenance": [],
      "authorship_tag": "ABX9TyPWX6shSkL/hXE2y0Dtt57O",
      "include_colab_link": true
    },
    "kernelspec": {
      "name": "python3",
      "display_name": "Python 3"
    },
    "language_info": {
      "name": "python"
    }
  },
  "cells": [
    {
      "cell_type": "markdown",
      "metadata": {
        "id": "view-in-github",
        "colab_type": "text"
      },
      "source": [
        "<a href=\"https://colab.research.google.com/github/Tejvvishnu/python-programs-1/blob/main/function.ipynb\" target=\"_parent\"><img src=\"https://colab.research.google.com/assets/colab-badge.svg\" alt=\"Open In Colab\"/></a>"
      ]
    },
    {
      "cell_type": "markdown",
      "source": [
        ""
      ],
      "metadata": {
        "id": "mla1PLrrK6BU"
      }
    },
    {
      "cell_type": "code",
      "execution_count": 3,
      "metadata": {
        "colab": {
          "base_uri": "https://localhost:8080/"
        },
        "id": "Zf9y38GqK2Nc",
        "outputId": "4b0d7481-8243-4f7e-e468-62acf4f454f1"
      },
      "outputs": [
        {
          "output_type": "stream",
          "name": "stdout",
          "text": [
            "hello\n"
          ]
        }
      ],
      "source": [
        "def tej():\n",
        "   print(\"hello\")\n",
        "tej() "
      ]
    },
    {
      "cell_type": "code",
      "source": [
        "def rrr(ram):\n",
        " print(ram +\"rrr\")\n",
        "rrr(\"jakkana\")"
      ],
      "metadata": {
        "colab": {
          "base_uri": "https://localhost:8080/"
        },
        "id": "hsbasWDlW7d4",
        "outputId": "6eba9eb7-9386-4843-d294-2329538a1b9b"
      },
      "execution_count": 7,
      "outputs": [
        {
          "output_type": "stream",
          "name": "stdout",
          "text": [
            "jakkanarrr\n"
          ]
        }
      ]
    },
    {
      "cell_type": "code",
      "source": [
        "def vote(name,age,gender):\n",
        "  print(name+\"tej\")\n",
        "  print(age+\"11\")\n",
        "  print(gender+\"male\")\n",
        "vote(\"name:\",\"age:\",\"gender:\")\n",
        "age=int(input(\"\")) \n",
        "if age>=18:\n",
        "  print(\"eligible\")\n",
        "else:\n",
        "  print(\"not eligible\")  "
      ],
      "metadata": {
        "colab": {
          "base_uri": "https://localhost:8080/"
        },
        "id": "rB3wOguPbL10",
        "outputId": "f4e4f210-b361-4f20-a717-06c4a7414527"
      },
      "execution_count": 17,
      "outputs": [
        {
          "output_type": "stream",
          "name": "stdout",
          "text": [
            "name:tej\n",
            "age:11\n",
            "gender:male\n",
            "21\n",
            "eligible\n"
          ]
        }
      ]
    }
  ]
}